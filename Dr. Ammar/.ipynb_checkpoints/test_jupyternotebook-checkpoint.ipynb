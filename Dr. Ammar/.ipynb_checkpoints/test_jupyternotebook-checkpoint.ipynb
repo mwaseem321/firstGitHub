{
 "cells": [
  {
   "cell_type": "markdown",
   "id": "f21d8744",
   "metadata": {},
   "source": [
    "# Python ka chilla with baba ammar\n",
    "## How to use jupyter notebook\n",
    "### Basics of python\n",
    "1- My first program\n"
   ]
  },
  {
   "cell_type": "code",
   "execution_count": null,
   "id": "6b7d4eec",
   "metadata": {},
   "outputs": [],
   "source": [
    "#My first program in python\n",
    "print(2+3)\n",
    "print(\"Hello\")\n",
    "print(\"We are learning with Ammar\")"
   ]
  },
  {
   "cell_type": "markdown",
   "id": "f46aca8f",
   "metadata": {},
   "source": [
    "# *Operators*"
   ]
  },
  {
   "cell_type": "code",
   "execution_count": null,
   "id": "1dba51c8",
   "metadata": {
    "scrolled": true
   },
   "outputs": [],
   "source": [
    "print(6/2)\n",
    "print((2**2)*3/5+3-7)\n",
    "#PEMDAS (just like BODMAS) (left to right)"
   ]
  },
  {
   "cell_type": "markdown",
   "id": "2fdbf969",
   "metadata": {},
   "source": [
    "# **Strings**"
   ]
  },
  {
   "cell_type": "code",
   "execution_count": null,
   "id": "212401c0",
   "metadata": {
    "scrolled": false
   },
   "outputs": [],
   "source": [
    "print(\"We are learning with Ammar\")\n",
    "# we can use single, double and tripple quotes\n",
    "print('Test1')\n",
    "print()"
   ]
  },
  {
   "cell_type": "markdown",
   "id": "0e14015e",
   "metadata": {},
   "source": [
    "# Comments "
   ]
  },
  {
   "cell_type": "markdown",
   "id": "6b071966",
   "metadata": {},
   "source": [
    "# Variables"
   ]
  },
  {
   "cell_type": "code",
   "execution_count": null,
   "id": "dde74a8f",
   "metadata": {},
   "outputs": [],
   "source": [
    "x= 15\n",
    "print(type(x))"
   ]
  },
  {
   "cell_type": "markdown",
   "id": "8e98caa4",
   "metadata": {},
   "source": [
    "# Input variables"
   ]
  },
  {
   "cell_type": "code",
   "execution_count": 2,
   "id": "4b09bdbb",
   "metadata": {},
   "outputs": [
    {
     "name": "stdout",
     "output_type": "stream",
     "text": [
      "What is your choice?apples\n",
      "apples\n",
      "What is your name? acd\n",
      "Hello! acd\n",
      "Hello acd\n",
      "How old are you?12\n",
      "Hello! acd You are still young.\n"
     ]
    }
   ],
   "source": [
    "fruit_basket= input(\"What is your choice?\")\n",
    "print(fruit_basket)\n",
    "name=input(\"What is your name? \")\n",
    "gretings= \"Hello!\"\n",
    "print(gretings, name)\n",
    "print(\"Hello\", name)\n",
    "age= input(\"How old are you?\")\n",
    "print(gretings, name, \"You are still young.\")"
   ]
  },
  {
   "cell_type": "markdown",
   "id": "7cf9ada5",
   "metadata": {},
   "source": [
    "# *COnditional logics*"
   ]
  },
  {
   "cell_type": "code",
   "execution_count": 4,
   "id": "5b1a8ae4",
   "metadata": {},
   "outputs": [
    {
     "name": "stdout",
     "output_type": "stream",
     "text": [
      "How old is hammad?11\n",
      "False\n"
     ]
    }
   ],
   "source": [
    "age_at_school= 9\n",
    "Hammad_age= int(input(\"How old is hammad?\"))\n",
    "print(age_at_school==Hammad_age)"
   ]
  },
  {
   "cell_type": "markdown",
   "id": "e912060f",
   "metadata": {},
   "source": [
    "# Variable type conversions"
   ]
  },
  {
   "cell_type": "markdown",
   "id": "6e1651a8",
   "metadata": {},
   "source": [
    "# if, elif, else"
   ]
  },
  {
   "cell_type": "markdown",
   "id": "7c3289fa",
   "metadata": {},
   "source": [
    "# Functions"
   ]
  },
  {
   "cell_type": "code",
   "execution_count": null,
   "id": "888d0cf4",
   "metadata": {},
   "outputs": [],
   "source": [
    "def print_codanics():\n",
    "    print(\"We are learning with ammar\")\n",
    "    print(\"We are learning with ammar\")\n",
    "    print(\"We are learning with ammar\")\n",
    "print_codanics()"
   ]
  },
  {
   "cell_type": "code",
   "execution_count": null,
   "id": "7190cd84",
   "metadata": {},
   "outputs": [],
   "source": [
    "def print_codanics():\n",
    "    text= \"We are learning with ammar\"\n",
    "    print(text)\n",
    "    print(text)\n",
    "    print(text)\n",
    "print_codanics()"
   ]
  },
  {
   "cell_type": "code",
   "execution_count": null,
   "id": "a049ecc9",
   "metadata": {},
   "outputs": [],
   "source": [
    "def print_codanics(text):\n",
    "    print(text)\n",
    "    print(text)\n",
    "    print(text)\n",
    "print_codanics(\" We are learning\")"
   ]
  },
  {
   "cell_type": "code",
   "execution_count": null,
   "id": "c9a8bef3",
   "metadata": {},
   "outputs": [],
   "source": [
    "def school_calculator(age):\n",
    "    if age==15:\n",
    "        print(\"hammad can join the school\")\n",
    "    elif age>5:\n",
    "        print(\"Hammad should join college\")\n",
    "    else:\n",
    "        print(\"hammad is still a baby\")\n",
    "  \n",
    "school_calculator(16)  "
   ]
  },
  {
   "cell_type": "code",
   "execution_count": null,
   "id": "1d1b5055",
   "metadata": {},
   "outputs": [],
   "source": [
    "def future_age(age):\n",
    "    new_age=age+20\n",
    "    return new_age\n",
    "    print(new_age)\n",
    "    \n",
    "future_predicted_age= future_age(6)\n",
    "print(future_predicted_age)"
   ]
  },
  {
   "cell_type": "markdown",
   "id": "349f76ff",
   "metadata": {},
   "source": [
    "# Loops"
   ]
  },
  {
   "cell_type": "code",
   "execution_count": null,
   "id": "7aa5108a",
   "metadata": {
    "scrolled": true
   },
   "outputs": [],
   "source": [
    "# While loops\n",
    "x=0\n",
    "while (x<=5):\n",
    "    print(x)\n",
    "    x=x+1"
   ]
  },
  {
   "cell_type": "code",
   "execution_count": null,
   "id": "fc585d73",
   "metadata": {},
   "outputs": [],
   "source": [
    "# For loops\n",
    "for x in range(4,10):\n",
    "    print(x)\n",
    "\n",
    "days = [\"Mon\", \"Tue\", \"Wed\", \"Thu\", \"Fri\", \"Sat\", \"Sun\"]\n",
    "for d in days:\n",
    "    # if(d==\"Fri\"): break\n",
    "    if(d==\"Fri\"): continue\n",
    "    print(d)"
   ]
  },
  {
   "cell_type": "markdown",
   "id": "c3e2a316",
   "metadata": {},
   "source": [
    "# Import libraries"
   ]
  },
  {
   "cell_type": "code",
   "execution_count": null,
   "id": "f3ab4be4",
   "metadata": {
    "scrolled": true
   },
   "outputs": [],
   "source": [
    "import math\n",
    "print(\"value of pi is\", math.pi)\n",
    "\n",
    "import statistics\n",
    "x=[2,4,5,6,5]\n",
    "print(statistics.mean(x))"
   ]
  },
  {
   "cell_type": "markdown",
   "id": "27362460",
   "metadata": {},
   "source": [
    "# troubleshooting"
   ]
  },
  {
   "cell_type": "code",
   "execution_count": null,
   "id": "f758fda0",
   "metadata": {},
   "outputs": [],
   "source": [
    "# syntax error\n",
    "# runtime error\n",
    "# semantic error"
   ]
  },
  {
   "cell_type": "code",
   "execution_count": null,
   "id": "18f5f8be",
   "metadata": {},
   "outputs": [],
   "source": []
  }
 ],
 "metadata": {
  "kernelspec": {
   "display_name": "Python 3 (ipykernel)",
   "language": "python",
   "name": "python3"
  },
  "language_info": {
   "codemirror_mode": {
    "name": "ipython",
    "version": 3
   },
   "file_extension": ".py",
   "mimetype": "text/x-python",
   "name": "python",
   "nbconvert_exporter": "python",
   "pygments_lexer": "ipython3",
   "version": "3.9.7"
  }
 },
 "nbformat": 4,
 "nbformat_minor": 5
}
